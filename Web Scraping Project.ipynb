{
 "cells": [
  {
   "cell_type": "markdown",
   "id": "4dfa8d52",
   "metadata": {},
   "source": [
    "# Scraping the Top Repositories on Topic from Github"
   ]
  },
  {
   "cell_type": "markdown",
   "id": "b1103e28",
   "metadata": {},
   "source": [
    "### Introduction:\n",
    "#### Web Scraping \n",
    "- Web Scraping is an automatic method to obtain large amounts of data from websites.\n",
    "- Most of this data is unstructured data in an HTML format which is then converted into structured data in a spreadsheet or a database so that it can be used in various applications. \n",
    "#### Github \n",
    "- GitHub is an web based platform which hosts software development projects and uses Git for version management. \n",
    "- Git is a distributed version control system that helps developers to work together on same software projects and keep track of changes made to their code by on another.\n",
    "\n",
    "### Problem Statement:\n",
    "\n",
    "- We need to scrape the top repositories on topic from Github site and put all the collected data into CSV files that are further put into a directory named as 'data'. \n",
    "\n",
    "#### Technologies Used\n",
    "- Python, requests, Beautiful Soup and pandas.\n"
   ]
  },
  {
   "cell_type": "markdown",
   "id": "52b13b43",
   "metadata": {},
   "source": [
    "Here are the steps that we'll follow for our project:\n",
    "##### Project Outline:\n",
    "- We are going to scrape the site github https://github.com/topics\n",
    "- We'll get a list of topics and for each topic we'll get topic title, topic page URL and topic description.\n",
    "- For each topic, we'll get the top 30 repositories in the topic from the topic page.\n",
    "- From each repositories, we'll take the Repo Name, Username, Stars and Repo URL.\n",
    "- For each topic we'll create a CSV file in the following format:\n",
    "\n",
    "```\n",
    "Repo Name ,Username ,Stars,Repo URL\n",
    "three.js,mrdoob,100000,https://github.com/mrdoob/three.js\n",
    "react-three-fiber,pmndrs,26500,https://github.com/pmndrs/react-three-fiber\n",
    "```\n",
    "    \n"
   ]
  },
  {
   "cell_type": "markdown",
   "id": "e356fecd",
   "metadata": {},
   "source": [
    "# Scrape the list of Topics from Github"
   ]
  },
  {
   "cell_type": "markdown",
   "id": "a69143a5",
   "metadata": {},
   "source": [
    "#### How we'll achieve it:\n",
    "- First we'll use the requests module to check the status code of the Github website, if the result is 200 then we are good to proceed.\n",
    "- Then, we'll use the Beautiful Soup module to parse the webpage.\n",
    "- Atlast, we'll convert the whole data in the form of dataframes which are finally transformed into CSV files ithin a data directory.\n",
    "\n",
    "Let's write a function to download the page"
   ]
  },
  {
   "cell_type": "code",
   "execution_count": 1,
   "id": "09523869",
   "metadata": {},
   "outputs": [],
   "source": [
    "import requests\n",
    "from bs4 import BeautifulSoup\n",
    "def get_topic_page():\n",
    "### Here, we have provided topics_url for which we are checking the status code and as mentioned above it should be equal to 200 for successful proceeding...\n",
    "    topics_url= 'https://github.com/topics'\n",
    "    response= requests.get(topics_url)\n",
    "    if response.status_code !=200:\n",
    "        raise Exception('Failed to load page {}'.format(topic_url))\n",
    "    doc=BeautifulSoup(response.text,'html.parser')\n",
    "    return doc"
   ]
  },
  {
   "cell_type": "code",
   "execution_count": 2,
   "id": "21857c08",
   "metadata": {},
   "outputs": [],
   "source": [
    "doc= get_topic_page()"
   ]
  },
  {
   "cell_type": "code",
   "execution_count": 3,
   "id": "db2279d8",
   "metadata": {},
   "outputs": [
    {
     "data": {
      "text/plain": [
       "bs4.BeautifulSoup"
      ]
     },
     "execution_count": 3,
     "metadata": {},
     "output_type": "execute_result"
    }
   ],
   "source": [
    "### Now we have a parsed doc which have a type BeautifulSoup\n",
    "type(doc)"
   ]
  },
  {
   "cell_type": "markdown",
   "id": "47b127d4",
   "metadata": {},
   "source": [
    "Lets create some helper functions to parse the information from the webpage."
   ]
  },
  {
   "cell_type": "markdown",
   "id": "aed43185",
   "metadata": {},
   "source": [
    "Our first function is to extract the  topic's titles from the parse web page."
   ]
  },
  {
   "cell_type": "code",
   "execution_count": 4,
   "id": "9ce8d4ea",
   "metadata": {},
   "outputs": [],
   "source": [
    "def get_topic_titles(doc):\n",
    "    selected_text=\"f3 lh-condensed mb-0 mt-1 Link--primary\"\n",
    "    topic_title_tags= doc.find_all('p',class_=selected_text)\n",
    "    topic_titles=[]\n",
    "    for tag in topic_title_tags:\n",
    "        topic_titles.append(tag.text)\n",
    "    return topic_titles"
   ]
  },
  {
   "cell_type": "code",
   "execution_count": 5,
   "id": "3cb2388b",
   "metadata": {},
   "outputs": [],
   "source": [
    "titles= get_topic_titles(doc)"
   ]
  },
  {
   "cell_type": "code",
   "execution_count": 6,
   "id": "7f74f471",
   "metadata": {},
   "outputs": [
    {
     "data": {
      "text/plain": [
       "30"
      ]
     },
     "execution_count": 6,
     "metadata": {},
     "output_type": "execute_result"
    }
   ],
   "source": [
    "len(titles)"
   ]
  },
  {
   "cell_type": "code",
   "execution_count": 7,
   "id": "fbc74668",
   "metadata": {},
   "outputs": [
    {
     "data": {
      "text/plain": [
       "['3D', 'Ajax', 'Algorithm', 'Amp', 'Android']"
      ]
     },
     "execution_count": 7,
     "metadata": {},
     "output_type": "execute_result"
    }
   ],
   "source": [
    "titles[:5]"
   ]
  },
  {
   "cell_type": "markdown",
   "id": "02b00954",
   "metadata": {},
   "source": [
    "Next is to fetch the description of each topics from the parse web page."
   ]
  },
  {
   "cell_type": "code",
   "execution_count": 8,
   "id": "d2ca1b42",
   "metadata": {},
   "outputs": [],
   "source": [
    "def get_topic_descs(doc):\n",
    "    desc_text=\"f5 color-fg-muted mb-0 mt-1\"\n",
    "    topic_desc_tags= doc.find_all('p',class_=desc_text)\n",
    "    topic_desc=[]\n",
    "    for tag0 in topic_desc_tags:\n",
    "        topic_desc.append(tag0.text.strip())\n",
    "    return topic_desc"
   ]
  },
  {
   "cell_type": "markdown",
   "id": "1210ad1a",
   "metadata": {},
   "source": [
    "Finally,fetching the URLs from the parsed web page."
   ]
  },
  {
   "cell_type": "code",
   "execution_count": 9,
   "id": "f57d802f",
   "metadata": {},
   "outputs": [],
   "source": [
    "base_url='https://github.com'\n",
    "def get_topic_urls(doc):\n",
    "    link_text=\"no-underline flex-1 d-flex flex-column\"\n",
    "    topic_link_tags=doc.find_all('a',class_=link_text)\n",
    "    topic_url=[]\n",
    "    for tag1 in topic_link_tags:\n",
    "        topic_url.append(base_url+tag1['href'])\n",
    "    return topic_url"
   ]
  },
  {
   "cell_type": "markdown",
   "id": "c98ad71d",
   "metadata": {},
   "source": [
    "Let's put it all together into a single function"
   ]
  },
  {
   "cell_type": "code",
   "execution_count": 10,
   "id": "d643a7c0",
   "metadata": {},
   "outputs": [],
   "source": [
    "import pandas as pd\n",
    "def scrape_topics():\n",
    "    topics_url= 'https://github.com/topics'\n",
    "    response= requests.get(topics_url)\n",
    "    if response.status_code !=200:\n",
    "        raise Exception('Failed to load page {}'.format(topic_url))\n",
    "    doc=BeautifulSoup(response.text,'html.parser')\n",
    "    topics_dict={\n",
    "        'title': get_topic_titles(doc),\n",
    "        'description': get_topic_descs(doc),\n",
    "        'url': get_topic_urls(doc)\n",
    "    }\n",
    "    return pd.DataFrame(topics_dict)"
   ]
  },
  {
   "cell_type": "markdown",
   "id": "312d46b8",
   "metadata": {},
   "source": [
    "# For each topic, we'll get the top 30 repositories in the topic from the topic page."
   ]
  },
  {
   "cell_type": "code",
   "execution_count": 11,
   "id": "1a2e6637",
   "metadata": {},
   "outputs": [],
   "source": [
    "def get_topic_page(topic_url):\n",
    "    #Download the page \n",
    "    response = requests.get(topic_url)\n",
    "    #Check successful response \n",
    "    if response.status_code !=200:\n",
    "        raise Exception('Failed to load page {}'.format(topic_url))\n",
    "    #Parse using Beautiful Soup\n",
    "    topic_doc= BeautifulSoup(response.text,'html.parser')\n",
    "    return topic_doc"
   ]
  },
  {
   "cell_type": "code",
   "execution_count": 12,
   "id": "df36c709",
   "metadata": {},
   "outputs": [],
   "source": [
    "def parse_star_count(star_str):\n",
    "    if star_str[-1]=='k':\n",
    "        return int(float(star_str[:-1]) *1000)\n",
    "    return int(star_str)\n",
    "def get_repo_info(h3_tag,star_tags):\n",
    "    # return all the info about a repository\n",
    "    a_tags= h3_tag.find_all('a')\n",
    "    username= a_tags[0].text.strip()\n",
    "    repo_name=a_tags[1].text.strip()\n",
    "    repo_url= base_url+ a_tags[1]['href']\n",
    "    stars= parse_star_count(star_tags.text)\n",
    "    return username,repo_name,stars,repo_url"
   ]
  },
  {
   "cell_type": "code",
   "execution_count": 13,
   "id": "91e6d8ba",
   "metadata": {},
   "outputs": [],
   "source": [
    "def get_topic_info(topic_doc):\n",
    "    \n",
    "    #Get h3 tags containing repo_title,repo URL and username\n",
    "    h3_selection_class=\"f3 color-fg-muted text-normal lh-condensed\"\n",
    "    repo_tags= topic_doc.find_all('h3',class_=h3_selection_class)   \n",
    "    #Get star tags\n",
    "    star_selection_text=\"Counter js-social-count\"\n",
    "    star_tags=topic_doc.find_all('span',class_=star_selection_text)\n",
    "    #Get repo info\n",
    "    topic_repo_dict={\n",
    "    'username':[],\n",
    "    'repo_name':[],\n",
    "    'stars':[],\n",
    "    'repo_url':[]\n",
    "    }\n",
    "    for i in range(len(repo_tags)):\n",
    "        repo_info=get_repo_info(repo_tags[i],star_tags[i])\n",
    "        topic_repo_dict['username'].append(repo_info[0])\n",
    "        topic_repo_dict['repo_name'].append(repo_info[1])\n",
    "        topic_repo_dict['stars'].append(repo_info[2])\n",
    "        topic_repo_dict['repo_url'].append(repo_info[3])\n",
    "        \n",
    "    ## Return the desired things into a DataFrame\n",
    "    return pd.DataFrame(topic_repo_dict)\n",
    "    "
   ]
  },
  {
   "cell_type": "code",
   "execution_count": 14,
   "id": "6dbf389d",
   "metadata": {},
   "outputs": [],
   "source": [
    "import os\n",
    "def scrape_topic(topic_url,path):\n",
    "    #fname= topic_name+'.csv'\n",
    "    if os.path.exists(path):\n",
    "        print('The file {} already exists. Skipping...'.format(path))\n",
    "        return\n",
    "    topic_df= get_topic_info(get_topic_page(topic_url))\n",
    "    topic_df.to_csv(path+'.csv', index=None)"
   ]
  },
  {
   "cell_type": "markdown",
   "id": "496acf0d",
   "metadata": {},
   "source": [
    "# Putting it all together\n",
    "- We have a function to get the list of topics\n",
    "- We have a function to create a CSV file for scraped repos from a topic page \n",
    "- Let's create a function to put them together"
   ]
  },
  {
   "cell_type": "code",
   "execution_count": 15,
   "id": "3e5defca",
   "metadata": {},
   "outputs": [],
   "source": [
    "def scrape_topics_repos():\n",
    "    print('Scraping top list of topics from Github')\n",
    "    topics_df= scrape_topics()\n",
    "    \n",
    "    os.makedirs('data',exist_ok=True)\n",
    "    \n",
    "    for index,row in topics_df.iterrows():\n",
    "        print('Scraping top repositories for \"{}\"'.format(row['title']))\n",
    "        scrape_topic(row['url'],'data/'+row['title'])"
   ]
  },
  {
   "cell_type": "markdown",
   "id": "24acdc7d",
   "metadata": {},
   "source": [
    "Let's run it to grab the top repos present on the first page of the web page : https://github.com"
   ]
  },
  {
   "cell_type": "code",
   "execution_count": 16,
   "id": "f598e0c0",
   "metadata": {},
   "outputs": [
    {
     "name": "stdout",
     "output_type": "stream",
     "text": [
      "Scraping top list of topics from Github\n",
      "Scraping top repositories for \"3D\"\n",
      "Scraping top repositories for \"Ajax\"\n",
      "Scraping top repositories for \"Algorithm\"\n",
      "Scraping top repositories for \"Amp\"\n",
      "Scraping top repositories for \"Android\"\n",
      "Scraping top repositories for \"Angular\"\n",
      "Scraping top repositories for \"Ansible\"\n",
      "Scraping top repositories for \"API\"\n",
      "Scraping top repositories for \"Arduino\"\n",
      "Scraping top repositories for \"ASP.NET\"\n",
      "Scraping top repositories for \"Awesome Lists\"\n",
      "Scraping top repositories for \"Amazon Web Services\"\n",
      "Scraping top repositories for \"Azure\"\n",
      "Scraping top repositories for \"Babel\"\n",
      "Scraping top repositories for \"Bash\"\n",
      "Scraping top repositories for \"Bitcoin\"\n",
      "Scraping top repositories for \"Bootstrap\"\n",
      "Scraping top repositories for \"Bot\"\n",
      "Scraping top repositories for \"C\"\n",
      "Scraping top repositories for \"Chrome\"\n",
      "Scraping top repositories for \"Chrome extension\"\n",
      "Scraping top repositories for \"Command line interface\"\n",
      "Scraping top repositories for \"Clojure\"\n",
      "Scraping top repositories for \"Code quality\"\n",
      "Scraping top repositories for \"Code review\"\n",
      "Scraping top repositories for \"Compiler\"\n",
      "Scraping top repositories for \"Continuous integration\"\n",
      "Scraping top repositories for \"C++\"\n",
      "Scraping top repositories for \"Cryptocurrency\"\n",
      "Scraping top repositories for \"Crystal\"\n"
     ]
    }
   ],
   "source": [
    "scrape_topics_repos()"
   ]
  },
  {
   "cell_type": "markdown",
   "id": "fae087d1",
   "metadata": {},
   "source": [
    "We can check whether a CSV has created properly or not "
   ]
  },
  {
   "cell_type": "code",
   "execution_count": 17,
   "id": "dde25e6b",
   "metadata": {},
   "outputs": [
    {
     "data": {
      "text/html": [
       "<div>\n",
       "<style scoped>\n",
       "    .dataframe tbody tr th:only-of-type {\n",
       "        vertical-align: middle;\n",
       "    }\n",
       "\n",
       "    .dataframe tbody tr th {\n",
       "        vertical-align: top;\n",
       "    }\n",
       "\n",
       "    .dataframe thead th {\n",
       "        text-align: right;\n",
       "    }\n",
       "</style>\n",
       "<table border=\"1\" class=\"dataframe\">\n",
       "  <thead>\n",
       "    <tr style=\"text-align: right;\">\n",
       "      <th></th>\n",
       "      <th>username</th>\n",
       "      <th>repo_name</th>\n",
       "      <th>stars</th>\n",
       "      <th>repo_url</th>\n",
       "    </tr>\n",
       "  </thead>\n",
       "  <tbody>\n",
       "    <tr>\n",
       "      <th>0</th>\n",
       "      <td>bregman-arie</td>\n",
       "      <td>devops-exercises</td>\n",
       "      <td>64599</td>\n",
       "      <td>https://github.com/bregman-arie/devops-exercises</td>\n",
       "    </tr>\n",
       "    <tr>\n",
       "      <th>1</th>\n",
       "      <td>ansible</td>\n",
       "      <td>ansible</td>\n",
       "      <td>61700</td>\n",
       "      <td>https://github.com/ansible/ansible</td>\n",
       "    </tr>\n",
       "    <tr>\n",
       "      <th>2</th>\n",
       "      <td>trailofbits</td>\n",
       "      <td>algo</td>\n",
       "      <td>28500</td>\n",
       "      <td>https://github.com/trailofbits/algo</td>\n",
       "    </tr>\n",
       "    <tr>\n",
       "      <th>3</th>\n",
       "      <td>MichaelCade</td>\n",
       "      <td>90DaysOfDevOps</td>\n",
       "      <td>26100</td>\n",
       "      <td>https://github.com/MichaelCade/90DaysOfDevOps</td>\n",
       "    </tr>\n",
       "    <tr>\n",
       "      <th>4</th>\n",
       "      <td>StreisandEffect</td>\n",
       "      <td>streisand</td>\n",
       "      <td>23100</td>\n",
       "      <td>https://github.com/StreisandEffect/streisand</td>\n",
       "    </tr>\n",
       "    <tr>\n",
       "      <th>5</th>\n",
       "      <td>kubernetes-sigs</td>\n",
       "      <td>kubespray</td>\n",
       "      <td>15600</td>\n",
       "      <td>https://github.com/kubernetes-sigs/kubespray</td>\n",
       "    </tr>\n",
       "    <tr>\n",
       "      <th>6</th>\n",
       "      <td>ansible</td>\n",
       "      <td>awx</td>\n",
       "      <td>13600</td>\n",
       "      <td>https://github.com/ansible/awx</td>\n",
       "    </tr>\n",
       "    <tr>\n",
       "      <th>7</th>\n",
       "      <td>easzlab</td>\n",
       "      <td>kubeasz</td>\n",
       "      <td>10200</td>\n",
       "      <td>https://github.com/easzlab/kubeasz</td>\n",
       "    </tr>\n",
       "    <tr>\n",
       "      <th>8</th>\n",
       "      <td>semaphoreui</td>\n",
       "      <td>semaphore</td>\n",
       "      <td>9600</td>\n",
       "      <td>https://github.com/semaphoreui/semaphore</td>\n",
       "    </tr>\n",
       "    <tr>\n",
       "      <th>9</th>\n",
       "      <td>netbootxyz</td>\n",
       "      <td>netboot.xyz</td>\n",
       "      <td>8400</td>\n",
       "      <td>https://github.com/netbootxyz/netboot.xyz</td>\n",
       "    </tr>\n",
       "    <tr>\n",
       "      <th>10</th>\n",
       "      <td>geerlingguy</td>\n",
       "      <td>ansible-for-devops</td>\n",
       "      <td>8200</td>\n",
       "      <td>https://github.com/geerlingguy/ansible-for-devops</td>\n",
       "    </tr>\n",
       "    <tr>\n",
       "      <th>11</th>\n",
       "      <td>khuedoan</td>\n",
       "      <td>homelab</td>\n",
       "      <td>7900</td>\n",
       "      <td>https://github.com/khuedoan/homelab</td>\n",
       "    </tr>\n",
       "    <tr>\n",
       "      <th>12</th>\n",
       "      <td>Tikam02</td>\n",
       "      <td>DevOps-Guide</td>\n",
       "      <td>7800</td>\n",
       "      <td>https://github.com/Tikam02/DevOps-Guide</td>\n",
       "    </tr>\n",
       "    <tr>\n",
       "      <th>13</th>\n",
       "      <td>geerlingguy</td>\n",
       "      <td>mac-dev-playbook</td>\n",
       "      <td>5800</td>\n",
       "      <td>https://github.com/geerlingguy/mac-dev-playbook</td>\n",
       "    </tr>\n",
       "    <tr>\n",
       "      <th>14</th>\n",
       "      <td>rundeck</td>\n",
       "      <td>rundeck</td>\n",
       "      <td>5400</td>\n",
       "      <td>https://github.com/rundeck/rundeck</td>\n",
       "    </tr>\n",
       "    <tr>\n",
       "      <th>15</th>\n",
       "      <td>KubeOperator</td>\n",
       "      <td>KubeOperator</td>\n",
       "      <td>5000</td>\n",
       "      <td>https://github.com/KubeOperator/KubeOperator</td>\n",
       "    </tr>\n",
       "    <tr>\n",
       "      <th>16</th>\n",
       "      <td>clong</td>\n",
       "      <td>DetectionLab</td>\n",
       "      <td>4600</td>\n",
       "      <td>https://github.com/clong/DetectionLab</td>\n",
       "    </tr>\n",
       "    <tr>\n",
       "      <th>17</th>\n",
       "      <td>ChristianLempa</td>\n",
       "      <td>boilerplates</td>\n",
       "      <td>3800</td>\n",
       "      <td>https://github.com/ChristianLempa/boilerplates</td>\n",
       "    </tr>\n",
       "    <tr>\n",
       "      <th>18</th>\n",
       "      <td>ansible</td>\n",
       "      <td>molecule</td>\n",
       "      <td>3800</td>\n",
       "      <td>https://github.com/ansible/molecule</td>\n",
       "    </tr>\n",
       "    <tr>\n",
       "      <th>19</th>\n",
       "      <td>dev-sec</td>\n",
       "      <td>ansible-collection-hardening</td>\n",
       "      <td>3800</td>\n",
       "      <td>https://github.com/dev-sec/ansible-collection-...</td>\n",
       "    </tr>\n",
       "  </tbody>\n",
       "</table>\n",
       "</div>"
      ],
      "text/plain": [
       "           username                     repo_name  stars  \\\n",
       "0      bregman-arie              devops-exercises  64599   \n",
       "1           ansible                       ansible  61700   \n",
       "2       trailofbits                          algo  28500   \n",
       "3       MichaelCade                90DaysOfDevOps  26100   \n",
       "4   StreisandEffect                     streisand  23100   \n",
       "5   kubernetes-sigs                     kubespray  15600   \n",
       "6           ansible                           awx  13600   \n",
       "7           easzlab                       kubeasz  10200   \n",
       "8       semaphoreui                     semaphore   9600   \n",
       "9        netbootxyz                   netboot.xyz   8400   \n",
       "10      geerlingguy            ansible-for-devops   8200   \n",
       "11         khuedoan                       homelab   7900   \n",
       "12          Tikam02                  DevOps-Guide   7800   \n",
       "13      geerlingguy              mac-dev-playbook   5800   \n",
       "14          rundeck                       rundeck   5400   \n",
       "15     KubeOperator                  KubeOperator   5000   \n",
       "16            clong                  DetectionLab   4600   \n",
       "17   ChristianLempa                  boilerplates   3800   \n",
       "18          ansible                      molecule   3800   \n",
       "19          dev-sec  ansible-collection-hardening   3800   \n",
       "\n",
       "                                             repo_url  \n",
       "0    https://github.com/bregman-arie/devops-exercises  \n",
       "1                  https://github.com/ansible/ansible  \n",
       "2                 https://github.com/trailofbits/algo  \n",
       "3       https://github.com/MichaelCade/90DaysOfDevOps  \n",
       "4        https://github.com/StreisandEffect/streisand  \n",
       "5        https://github.com/kubernetes-sigs/kubespray  \n",
       "6                      https://github.com/ansible/awx  \n",
       "7                  https://github.com/easzlab/kubeasz  \n",
       "8            https://github.com/semaphoreui/semaphore  \n",
       "9           https://github.com/netbootxyz/netboot.xyz  \n",
       "10  https://github.com/geerlingguy/ansible-for-devops  \n",
       "11                https://github.com/khuedoan/homelab  \n",
       "12            https://github.com/Tikam02/DevOps-Guide  \n",
       "13    https://github.com/geerlingguy/mac-dev-playbook  \n",
       "14                 https://github.com/rundeck/rundeck  \n",
       "15       https://github.com/KubeOperator/KubeOperator  \n",
       "16              https://github.com/clong/DetectionLab  \n",
       "17     https://github.com/ChristianLempa/boilerplates  \n",
       "18                https://github.com/ansible/molecule  \n",
       "19  https://github.com/dev-sec/ansible-collection-...  "
      ]
     },
     "execution_count": 17,
     "metadata": {},
     "output_type": "execute_result"
    }
   ],
   "source": [
    "pd.read_csv('data/Ansible.csv')"
   ]
  },
  {
   "cell_type": "markdown",
   "id": "7c35ce07",
   "metadata": {},
   "source": [
    "Hence, we can say that we have created CSV properly as shown above."
   ]
  },
  {
   "cell_type": "markdown",
   "id": "24429826",
   "metadata": {},
   "source": [
    "Reference of project: https://www.youtube.com/watch?v=RKsLLG-bzEY\n",
    "                      https://www.geeksforgeeks.org/introduction-to-github/"
   ]
  }
 ],
 "metadata": {
  "kernelspec": {
   "display_name": "Python 3",
   "language": "python",
   "name": "python3"
  },
  "language_info": {
   "codemirror_mode": {
    "name": "ipython",
    "version": 3
   },
   "file_extension": ".py",
   "mimetype": "text/x-python",
   "name": "python",
   "nbconvert_exporter": "python",
   "pygments_lexer": "ipython3",
   "version": "3.8.8"
  }
 },
 "nbformat": 4,
 "nbformat_minor": 5
}
